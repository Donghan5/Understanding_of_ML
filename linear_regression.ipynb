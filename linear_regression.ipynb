{
 "cells": [
  {
   "cell_type": "code",
   "execution_count": null,
   "id": "4404e238",
   "metadata": {},
   "outputs": [
    {
     "ename": "",
     "evalue": "",
     "output_type": "error",
     "traceback": [
      "\u001b[1;31mRunning cells with 'Python 3.13.3' requires the ipykernel package.\n",
      "\u001b[1;31m<a href='command:jupyter.createPythonEnvAndSelectController'>Create a Python Environment</a> with the required packages.\n",
      "\u001b[1;31mOr install 'ipykernel' using the command: '/opt/homebrew/bin/python3 -m pip install ipykernel -U --user --force-reinstall'"
     ]
    }
   ],
   "source": [
    "# import tensorflow as tf\n",
    "import tensorflow as tf"
   ]
  },
  {
   "cell_type": "code",
   "execution_count": null,
   "id": "154836a3",
   "metadata": {},
   "outputs": [],
   "source": [
    "# declare a simple x_train and y_train\n",
    "x_train = tf.constant([[1.0, 2.0], [3.0, 4.0]])\n",
    "y_train = tf.constant([[0.0], [1.0]])"
   ]
  },
  {
   "cell_type": "code",
   "execution_count": null,
   "id": "bf8a42b8",
   "metadata": {},
   "outputs": [],
   "source": [
    "# declare variables w for weights and b for bias\n",
    "w = tf.Variable(tf.random.normal([2, 1]), name='weights')\n",
    "b = tf.Variable(tf.random.normal([1]), name='bias')\n",
    "\n",
    "# declare a learning rate\n",
    "learning_rate = 0.01"
   ]
  },
  {
   "cell_type": "code",
   "execution_count": null,
   "id": "c5493d2c",
   "metadata": {},
   "outputs": [],
   "source": [
    "# hypothesis function\n",
    "# explanation: y = wx + b (simple linear regression formula)\n",
    "# explanation matmul func: multiply two matrices\n",
    "hypothesis = tf.matmul(x_train, w) + b\n",
    "\n",
    "# cost(loss) function\n",
    "cost = tf.reduce_mean(tf.square(hypothesis - y_train))"
   ]
  },
  {
   "cell_type": "code",
   "execution_count": null,
   "id": "ac9daf70",
   "metadata": {},
   "outputs": [],
   "source": [
    "# Minimization function\n",
    "# Optimizer\n",
    "optimizer = tf.train.GradientDescentOptimizer(learning_rate) # using gradient descent\n",
    "train = optimizer.minimize(cost)"
   ]
  },
  {
   "cell_type": "code",
   "execution_count": null,
   "id": "29a781e8",
   "metadata": {},
   "outputs": [],
   "source": [
    "# Initialization\n",
    "init = tf.global_variables_initializer()  # initialize all variables (before running the session)\n",
    "\n",
    "# Start the session\n",
    "sess = tf.Session()\n",
    "sess.run(init)  # run the initialization"
   ]
  },
  {
   "cell_type": "code",
   "execution_count": null,
   "id": "5922c2d4",
   "metadata": {},
   "outputs": [],
   "source": [
    "# Training loop\n",
    "for i in range(100):\n",
    "\tsess.run(train)  # run the training\n",
    "\tif i % 10 == 0:  # print every 10 iterations (Print the cost, weights and bias)\n",
    "\t\tprint(\"Iteration:\", i, \"Cost:\", sess.run(cost), \"Weights:\", sess.run(w), \"Bias:\", sess.run(b))"
   ]
  }
 ],
 "metadata": {
  "kernelspec": {
   "display_name": "Python 3",
   "language": "python",
   "name": "python3"
  },
  "language_info": {
   "name": "python",
   "version": "3.13.3"
  }
 },
 "nbformat": 4,
 "nbformat_minor": 5
}
